{
 "cells": [
  {
   "cell_type": "code",
   "execution_count": 1,
   "metadata": {},
   "outputs": [],
   "source": [
    "import os\n",
    "import cv2"
   ]
  },
  {
   "cell_type": "code",
   "execution_count": 2,
   "metadata": {},
   "outputs": [],
   "source": [
    "video_path = '../state_videos/fry_extended/'\n",
    "video_list = os.listdir(video_path)"
   ]
  },
  {
   "cell_type": "code",
   "execution_count": 3,
   "metadata": {},
   "outputs": [],
   "source": [
    "mp4_video_list = [f for f in video_list if f.endswith('mp4')]"
   ]
  },
  {
   "cell_type": "code",
   "execution_count": 6,
   "metadata": {},
   "outputs": [],
   "source": [
    "def video2img(video_name, video_path):\n",
    "    file_name = video_name.split('.')[0]\n",
    "    folder_name = video_path + file_name\n",
    "    os.makedirs(folder_name,exist_ok=True)\n",
    "    vc = cv2.VideoCapture(video_path+video_name) \n",
    "    c=0\n",
    "    rval=vc.isOpened()\n",
    "\n",
    "    while rval: \n",
    "        c = c + 1\n",
    "        rval, frame = vc.read()\n",
    "        pic_path = folder_name+'/'\n",
    "        if rval:\n",
    "            cv2.imwrite(pic_path + file_name + '_' + str(c) + '.jpg', frame) \n",
    "            cv2.waitKey(1)\n",
    "        else:\n",
    "            break\n",
    "    vc.release()\n",
    "    print(folder_name)"
   ]
  },
  {
   "cell_type": "code",
   "execution_count": 4,
   "metadata": {},
   "outputs": [],
   "source": [
    "test = mp4_video_list[0]"
   ]
  },
  {
   "cell_type": "code",
   "execution_count": 5,
   "metadata": {},
   "outputs": [
    {
     "data": {
      "text/plain": [
       "'1471_extended_15.mp4'"
      ]
     },
     "execution_count": 5,
     "metadata": {},
     "output_type": "execute_result"
    }
   ],
   "source": [
    "test"
   ]
  },
  {
   "cell_type": "code",
   "execution_count": 7,
   "metadata": {},
   "outputs": [
    {
     "name": "stdout",
     "output_type": "stream",
     "text": [
      "../state_videos/fry_extended/1471_extended_15\n",
      "../state_videos/fry_extended/1285_extended_21\n",
      "../state_videos/fry_extended/103_extended_21\n",
      "../state_videos/fry_extended/2849_extended_12\n",
      "../state_videos/fry_extended/2439_extended_13\n",
      "../state_videos/fry_extended/2078_extended_8\n",
      "../state_videos/fry_extended/2238_extended_9\n",
      "../state_videos/fry_extended/3668_extended_6\n",
      "../state_videos/fry_extended/195_extended_9\n",
      "../state_videos/fry_extended/711_extended_12\n",
      "../state_videos/fry_extended/1285_extended_22\n",
      "../state_videos/fry_extended/1287_extended_6\n",
      "../state_videos/fry_extended/1366_extended_7\n",
      "../state_videos/fry_extended/3008_extended_8\n",
      "../state_videos/fry_extended/1533_extended_3\n",
      "../state_videos/fry_extended/819_extended_7\n",
      "../state_videos/fry_extended/3396_extended_20\n",
      "../state_videos/fry_extended/586_extended_9\n",
      "../state_videos/fry_extended/587_extended_9\n",
      "../state_videos/fry_extended/2291_extended_15\n",
      "../state_videos/fry_extended/2849_extended_15\n",
      "../state_videos/fry_extended/1367_extended_7\n",
      "../state_videos/fry_extended/820_extended_11\n",
      "../state_videos/fry_extended/1360_extended_6\n",
      "../state_videos/fry_extended/3291_extended_19\n",
      "../state_videos/fry_extended/2486_extended_16\n",
      "../state_videos/fry_extended/840_extended_8\n",
      "../state_videos/fry_extended/842_extended_13\n",
      "../state_videos/fry_extended/2368_extended_4\n",
      "../state_videos/fry_extended/1470_extended_13\n",
      "../state_videos/fry_extended/3112_extended_9\n",
      "../state_videos/fry_extended/147_extended_7\n",
      "../state_videos/fry_extended/1315_extended_13\n",
      "../state_videos/fry_extended/1972_extended_3\n",
      "../state_videos/fry_extended/2257_extended_8\n",
      "../state_videos/fry_extended/2375_extended_6\n",
      "../state_videos/fry_extended/364_extended_6\n",
      "../state_videos/fry_extended/1771_extended_6\n",
      "../state_videos/fry_extended/845_extended_9\n",
      "../state_videos/fry_extended/696_extended_5\n",
      "../state_videos/fry_extended/765_extended_7\n",
      "../state_videos/fry_extended/1603_extended_11\n",
      "../state_videos/fry_extended/2277_extended_7\n",
      "../state_videos/fry_extended/2004_extended_9\n",
      "../state_videos/fry_extended/1282_extended_4\n",
      "../state_videos/fry_extended/611_extended_5\n",
      "../state_videos/fry_extended/896_extended_10\n",
      "../state_videos/fry_extended/2473_extended_9\n",
      "../state_videos/fry_extended/563_extended_12\n",
      "../state_videos/fry_extended/2023_extended_1\n",
      "../state_videos/fry_extended/853_extended_11\n",
      "../state_videos/fry_extended/1549_extended_4\n",
      "../state_videos/fry_extended/888_extended_5\n",
      "../state_videos/fry_extended/561_extended_8\n",
      "../state_videos/fry_extended/325_extended_10\n",
      "../state_videos/fry_extended/1408_extended_7\n",
      "../state_videos/fry_extended/1549_extended_8\n",
      "../state_videos/fry_extended/2277_extended_9\n",
      "../state_videos/fry_extended/1805_extended_16\n",
      "../state_videos/fry_extended/1117_extended_7\n",
      "../state_videos/fry_extended/1281_extended_21\n",
      "../state_videos/fry_extended/1105_extended_6\n",
      "../state_videos/fry_extended/496_extended_11\n",
      "../state_videos/fry_extended/3347_extended_3\n",
      "../state_videos/fry_extended/2447_extended_12\n",
      "../state_videos/fry_extended/744_extended_6\n",
      "../state_videos/fry_extended/3417_extended_5\n",
      "../state_videos/fry_extended/2854_extended_5\n",
      "../state_videos/fry_extended/3565_extended_4\n",
      "../state_videos/fry_extended/2093_extended_14\n",
      "../state_videos/fry_extended/1609_extended_11\n",
      "../state_videos/fry_extended/2706_extended_11\n",
      "../state_videos/fry_extended/1599_extended_7\n",
      "../state_videos/fry_extended/858_extended_6\n",
      "../state_videos/fry_extended/851_extended_3\n",
      "../state_videos/fry_extended/371_extended_8\n",
      "../state_videos/fry_extended/1594_extended_5\n",
      "../state_videos/fry_extended/1601_extended_9\n",
      "../state_videos/fry_extended/3599_extended_3\n",
      "../state_videos/fry_extended/2693_extended_17\n",
      "../state_videos/fry_extended/934_extended_3\n",
      "../state_videos/fry_extended/2111_extended_4\n",
      "../state_videos/fry_extended/854_extended_2\n",
      "../state_videos/fry_extended/3351_extended_2\n",
      "../state_videos/fry_extended/1150_extended_9\n",
      "../state_videos/fry_extended/740_extended_4\n",
      "../state_videos/fry_extended/322_extended_6\n",
      "../state_videos/fry_extended/2636_extended_5\n",
      "../state_videos/fry_extended/2232_extended_10\n",
      "../state_videos/fry_extended/2868_extended_13\n",
      "../state_videos/fry_extended/1738_extended_6\n",
      "../state_videos/fry_extended/935_extended_3\n",
      "../state_videos/fry_extended/857_extended_13\n",
      "../state_videos/fry_extended/2081_extended_2\n"
     ]
    }
   ],
   "source": [
    "for file_name in mp4_video_list:\n",
    "    video2img(file_name, video_path)"
   ]
  },
  {
   "cell_type": "code",
   "execution_count": 11,
   "metadata": {},
   "outputs": [],
   "source": [
    "mp4_video_list.sort(key=lambda k:int(k.split('_')[0]))"
   ]
  },
  {
   "cell_type": "code",
   "execution_count": 12,
   "metadata": {},
   "outputs": [
    {
     "data": {
      "text/plain": [
       "['103_extended_21.mp4',\n",
       " '147_extended_7.mp4',\n",
       " '195_extended_9.mp4',\n",
       " '322_extended_6.mp4',\n",
       " '325_extended_10.mp4',\n",
       " '364_extended_6.mp4',\n",
       " '371_extended_8.mp4',\n",
       " '496_extended_11.mp4',\n",
       " '561_extended_8.mp4',\n",
       " '563_extended_12.mp4',\n",
       " '586_extended_9.mp4',\n",
       " '587_extended_9.mp4',\n",
       " '611_extended_5.mp4',\n",
       " '696_extended_5.mp4',\n",
       " '711_extended_12.mp4',\n",
       " '740_extended_4.mp4',\n",
       " '744_extended_6.mp4',\n",
       " '765_extended_7.mp4',\n",
       " '819_extended_7.mp4',\n",
       " '820_extended_11.mp4',\n",
       " '840_extended_8.mp4',\n",
       " '842_extended_13.mp4',\n",
       " '845_extended_9.mp4',\n",
       " '851_extended_3.mp4',\n",
       " '853_extended_11.mp4',\n",
       " '854_extended_2.mp4',\n",
       " '857_extended_13.mp4',\n",
       " '858_extended_6.mp4',\n",
       " '888_extended_5.mp4',\n",
       " '896_extended_10.mp4',\n",
       " '934_extended_3.mp4',\n",
       " '935_extended_3.mp4',\n",
       " '1105_extended_6.mp4',\n",
       " '1117_extended_7.mp4',\n",
       " '1150_extended_9.mp4',\n",
       " '1281_extended_21.mp4',\n",
       " '1282_extended_4.mp4',\n",
       " '1285_extended_21.mp4',\n",
       " '1285_extended_22.mp4',\n",
       " '1287_extended_6.mp4',\n",
       " '1315_extended_13.mp4',\n",
       " '1360_extended_6.mp4',\n",
       " '1366_extended_7.mp4',\n",
       " '1367_extended_7.mp4',\n",
       " '1408_extended_7.mp4',\n",
       " '1470_extended_13.mp4',\n",
       " '1471_extended_15.mp4',\n",
       " '1533_extended_3.mp4',\n",
       " '1549_extended_4.mp4',\n",
       " '1549_extended_8.mp4',\n",
       " '1594_extended_5.mp4',\n",
       " '1599_extended_7.mp4',\n",
       " '1601_extended_9.mp4',\n",
       " '1603_extended_11.mp4',\n",
       " '1609_extended_11.mp4',\n",
       " '1738_extended_6.mp4',\n",
       " '1771_extended_6.mp4',\n",
       " '1805_extended_16.mp4',\n",
       " '1972_extended_3.mp4',\n",
       " '2004_extended_9.mp4',\n",
       " '2023_extended_1.mp4',\n",
       " '2078_extended_8.mp4',\n",
       " '2081_extended_2.mp4',\n",
       " '2093_extended_14.mp4',\n",
       " '2111_extended_4.mp4',\n",
       " '2232_extended_10.mp4',\n",
       " '2238_extended_9.mp4',\n",
       " '2257_extended_8.mp4',\n",
       " '2277_extended_7.mp4',\n",
       " '2277_extended_9.mp4',\n",
       " '2291_extended_15.mp4',\n",
       " '2368_extended_4.mp4',\n",
       " '2375_extended_6.mp4',\n",
       " '2439_extended_13.mp4',\n",
       " '2447_extended_12.mp4',\n",
       " '2473_extended_9.mp4',\n",
       " '2486_extended_16.mp4',\n",
       " '2636_extended_5.mp4',\n",
       " '2693_extended_17.mp4',\n",
       " '2706_extended_11.mp4',\n",
       " '2849_extended_12.mp4',\n",
       " '2849_extended_15.mp4',\n",
       " '2854_extended_5.mp4',\n",
       " '2868_extended_13.mp4',\n",
       " '3008_extended_8.mp4',\n",
       " '3112_extended_9.mp4',\n",
       " '3291_extended_19.mp4',\n",
       " '3347_extended_3.mp4',\n",
       " '3351_extended_2.mp4',\n",
       " '3396_extended_20.mp4',\n",
       " '3417_extended_5.mp4',\n",
       " '3565_extended_4.mp4',\n",
       " '3599_extended_3.mp4',\n",
       " '3668_extended_6.mp4']"
      ]
     },
     "execution_count": 12,
     "metadata": {},
     "output_type": "execute_result"
    }
   ],
   "source": [
    "mp4_video_list"
   ]
  }
 ],
 "metadata": {
  "kernelspec": {
   "display_name": "a5",
   "language": "python",
   "name": "a5"
  },
  "language_info": {
   "codemirror_mode": {
    "name": "ipython",
    "version": 3
   },
   "file_extension": ".py",
   "mimetype": "text/x-python",
   "name": "python",
   "nbconvert_exporter": "python",
   "pygments_lexer": "ipython3",
   "version": "3.6.9"
  }
 },
 "nbformat": 4,
 "nbformat_minor": 4
}
