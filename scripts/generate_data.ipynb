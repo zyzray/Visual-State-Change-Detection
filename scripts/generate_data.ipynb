{
 "cells": [
  {
   "cell_type": "code",
   "execution_count": 1,
   "metadata": {},
   "outputs": [],
   "source": [
    "import pandas as pd\n",
    "import os"
   ]
  },
  {
   "cell_type": "code",
   "execution_count": 17,
   "metadata": {},
   "outputs": [],
   "source": [
    "anno_df = pd.read_csv('state_videos/label_fry_test.csv')"
   ]
  },
  {
   "cell_type": "code",
   "execution_count": 18,
   "metadata": {},
   "outputs": [],
   "source": [
    "imgroot_name = 'state_videos/fry/images/fry_images/'\n",
    "names = []\n",
    "labels = []\n",
    "for i in range(len(anno_df)):\n",
    "    row = anno_df.iloc[i]\n",
    "    video_name = row['video']\n",
    "    start_frame = row['0']\n",
    "    change_begin_frame = row['1']\n",
    "    change_end_frame = row['2']\n",
    "    end_frame = row['3']\n",
    "    folder_name = imgroot_name + video_name\n",
    "    img_list = [f for f in os.listdir(folder_name) if f.endswith('.jpg')]\n",
    "    for img in img_list:\n",
    "        img_idx = int(img.split('.')[0].split('_')[-1])\n",
    "        if start_frame <= img_idx < change_begin_frame:\n",
    "            label = 0\n",
    "        elif change_begin_frame <= img_idx < change_end_frame:\n",
    "            label = 1\n",
    "        elif change_end_frame <= img_idx <= end_frame:\n",
    "            label = 2\n",
    "        else:\n",
    "            label = 3\n",
    "        names.append(img)\n",
    "        labels.append(label)\n",
    "list_of_tuples = list(zip(names,labels))\n",
    "write_df = pd.DataFrame(list_of_tuples, columns = ['name', 'label'])"
   ]
  },
  {
   "cell_type": "code",
   "execution_count": 19,
   "metadata": {},
   "outputs": [],
   "source": [
    "write_df.to_csv('fry_test_labels_ba.csv')"
   ]
  },
  {
   "cell_type": "code",
   "execution_count": 25,
   "metadata": {},
   "outputs": [],
   "source": [
    "l = [('888_99_1',0),('888_99_7',2),('888_99_26',1), ('888_99_27',1),('888_99_28',1),('888_99_119',1)]"
   ]
  },
  {
   "cell_type": "code",
   "execution_count": 27,
   "metadata": {},
   "outputs": [],
   "source": [
    "l.sort(key=lambda k:int(k[0].split('_')[-1]))"
   ]
  },
  {
   "cell_type": "code",
   "execution_count": 20,
   "metadata": {},
   "outputs": [
    {
     "data": {
      "text/plain": [
       "[('888_99_1', 0),\n",
       " ('888_99_7', 2),\n",
       " ('888_99_26', 1),\n",
       " ('888_99_27', 1),\n",
       " ('888_99_28', 1),\n",
       " ('888_99_119', 2)]"
      ]
     },
     "execution_count": 20,
     "metadata": {},
     "output_type": "execute_result"
    }
   ],
   "source": [
    "l"
   ]
  },
  {
   "cell_type": "code",
   "execution_count": 28,
   "metadata": {},
   "outputs": [
    {
     "name": "stdout",
     "output_type": "stream",
     "text": [
      "0_0_0\n",
      "2_0_0\n",
      "1_0_0\n",
      "1_0_1\n",
      "1_0_2\n",
      "1_1_0\n",
      "26\n",
      "-1\n"
     ]
    }
   ],
   "source": [
    "in_b = False\n",
    "in_c = False\n",
    "s0 = l[0][1]\n",
    "if s0 == 0:\n",
    "    in_b = True\n",
    "elif s0 == 1:\n",
    "    in_c = True\n",
    "    \n",
    "t_bc = -1\n",
    "t_ca = -1\n",
    "sl = s0\n",
    "\n",
    "count = 0\n",
    "for item in l:\n",
    "    t = int(item[0].split('_')[-1])\n",
    "    s = item[1]\n",
    "    print('{}_{}_{}'.format(s,sl,count))\n",
    "    if s == sl + 1:\n",
    "        if s == 1 and in_b:\n",
    "            count += 1\n",
    "            if count == 3:\n",
    "                t_bc = t - 2\n",
    "                in_b = False\n",
    "                in_c = True\n",
    "                sl = s\n",
    "                count = 0\n",
    "        elif s == 2 and in_c:\n",
    "            count += 1\n",
    "            if count == 3:\n",
    "                t_ca = t - 2\n",
    "                in_c = False\n",
    "                sl = s\n",
    "                count = 0\n",
    "    else:\n",
    "        count = 0\n",
    "        \n",
    "print(t_bc)   \n",
    "print(t_ca) "
   ]
  },
  {
   "cell_type": "code",
   "execution_count": 2,
   "metadata": {},
   "outputs": [],
   "source": [
    "a = [(24,206),(1,171),(31,148),(33,128),(35,121),(13,119),(16,169),\n",
    "     (12,189),(22,62),(1,65),(5,105),(1,8),(105,200),(26,141),(1,231),(1,80),(1,44),\n",
    "    (26,120),(6,57),(38,113),(1,64),(4,92),(163,302),(2,273)]\n",
    "\n",
    "p = [(28,206),(1,171),(33,110),(68,128),(1,121),(12,119),(16,213),(10,134),(1,62),(1,104),(1,151),(1,14),(102,196),(53,132),\n",
    "    (1,231),(1,37),(1,70),(25,122),(6,57),(54,87),(1,60),(1,98),(162,302),(14,112)]\n",
    "\n",
    "r = [(110,164),(100,150),(85,143),(80,120),(60,90),(78,117),(117,176),\n",
    "     (116,174),(31,46),(71,106),(75,113),(25,38),(128,191),(93,140),(115,173),(62,93),(42,62),\n",
    "    (68,102),(28,43),(72,108),(60,90),(69,104),(164,246),(159,239)]\n",
    "l = [219,200,190,159,121,155,234,232,62,141,151,50,255,185,231,124,83,136,57,144,120,138,328,318]"
   ]
  },
  {
   "cell_type": "code",
   "execution_count": 5,
   "metadata": {},
   "outputs": [],
   "source": [
    "e = 0\n",
    "for i in range(len(a)):\n",
    "    e += ((a[i][0] - r[i][0])**2 + (a[i][1] - r[i][1])**2) / l[i]"
   ]
  },
  {
   "cell_type": "code",
   "execution_count": 6,
   "metadata": {},
   "outputs": [
    {
     "data": {
      "text/plain": [
       "29.775386905867947"
      ]
     },
     "execution_count": 6,
     "metadata": {},
     "output_type": "execute_result"
    }
   ],
   "source": [
    "e / 24"
   ]
  },
  {
   "cell_type": "code",
   "execution_count": 29,
   "metadata": {},
   "outputs": [
    {
     "data": {
      "text/plain": [
       "238.5"
      ]
     },
     "execution_count": 29,
     "metadata": {},
     "output_type": "execute_result"
    }
   ],
   "source": [
    "318 * 3/4"
   ]
  },
  {
   "cell_type": "code",
   "execution_count": 9,
   "metadata": {},
   "outputs": [
    {
     "data": {
      "text/plain": [
       "0.7365932667179094"
      ]
     },
     "execution_count": 9,
     "metadata": {},
     "output_type": "execute_result"
    }
   ],
   "source": [
    "f1 = 0.7063\n",
    "rec = 0.6784\n",
    "pre = 1 / (2/f1 - 1/rec)\n",
    "pre"
   ]
  },
  {
   "cell_type": "code",
   "execution_count": 6,
   "metadata": {},
   "outputs": [
    {
     "data": {
      "image/png": "[encoded data removed]",
      "text/plain": [
       "<Figure size 720x504 with 2 Axes>"
      ]
     },
     "metadata": {},
     "output_type": "display_data"
    }
   ],
   "source": [
    "import seaborn as sn\n",
    "import pandas as pd\n",
    "import matplotlib.pyplot as plt\n",
    "array = [[346,110,12],\n",
    "         [39,2331,261],\n",
    "         [14,192,576]]\n",
    "df_cm = pd.DataFrame(array, index = [i for i in \"ABC\"],\n",
    "                  columns = [i for i in \"ABC\"])\n",
    "fig = plt.figure(figsize = (10,7))\n",
    "sn.heatmap(df_cm, annot=True)\n",
    "fig.savefig('temp.png', dpi=fig.dpi)"
   ]
  }
 ],
 "metadata": {
  "kernelspec": {
   "display_name": "kaggle",
   "language": "python",
   "name": "kaggle"
  },
  "language_info": {
   "codemirror_mode": {
    "name": "ipython",
    "version": 3
   },
   "file_extension": ".py",
   "mimetype": "text/x-python",
   "name": "python",
   "nbconvert_exporter": "python",
   "pygments_lexer": "ipython3",
   "version": "3.7.4"
  }
 },
 "nbformat": 4,
 "nbformat_minor": 4
}
